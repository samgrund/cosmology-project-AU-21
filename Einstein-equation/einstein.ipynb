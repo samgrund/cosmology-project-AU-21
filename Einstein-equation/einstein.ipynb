{
 "cells": [
  {
   "cell_type": "markdown",
   "metadata": {},
   "source": [
    "# Friedmann from Einstein\n",
    "\n",
    "## Basic equations\n",
    "\n",
    "\n",
    "#### Einstein (field) equations\n",
    "\n",
    "\\begin{equation}\n",
    "    R_{\\mu\\nu} - \\frac{1}{2}g_{\\mu\\nu}R = 8\\pi GT_{\\mu\\nu}\n",
    "\\end{equation}\n",
    "(using $c=1$)\n",
    "\n",
    "https://en.wikipedia.org/wiki/Einstein_field_equations\n",
    "\n",
    "* Greek indices run over $\\{0, 1, 2, 3\\}$, corresponding to $x^\\mu = [t, x, y, z]$: $x^0 = t$, $x^1 = x$, $x^2 = y$, $x^3 = z$. The above is then really $4\\times 4 = 16$ equations.\n",
    "\n",
    "\n",
    "#### Ricci curvature tensor and scalar\n",
    "\n",
    "\\begin{align}\n",
    "    R_{\\mu\\nu} &= \\Gamma^\\alpha_{\\mu\\nu,\\alpha} - \\Gamma^\\alpha_{\\nu\\alpha,\\mu} + \\Gamma^\\alpha_{\\alpha\\beta}\\Gamma^\\beta_{\\mu\\nu} - \\Gamma^\\alpha_{\\mu\\beta}\\Gamma^\\beta_{\\alpha\\nu} \\\\\n",
    "    R &= R^\\alpha_\\alpha = g^{\\alpha\\beta}R_{\\alpha\\beta}\n",
    "\\end{align}\n",
    "https://en.wikipedia.org/wiki/Ricci_curvature#Definition_via_local_coordinates_on_a_smooth_manifold\n",
    "\n",
    "* Comma as notation for differentiation:\n",
    "  \\begin{equation}\n",
    "      \\Gamma^\\alpha_{\\mu\\nu,\\alpha} \\equiv \\partial_\\alpha\\Gamma^\\alpha_{\\mu\\nu} \\equiv \\frac{\\partial \\Gamma^\\alpha_{\\mu\\nu}}{\\partial x^\\alpha}\n",
    "  \\end{equation}\n",
    "  https://en.wikibooks.org/wiki/General_Relativity/Coordinate_systems_and_the_comma_derivative\n",
    "* Einstein summation convention (matching upper and lower indices are summed):\n",
    "  \\begin{align}\n",
    "      \\Gamma^\\alpha_{\\mu\\nu,\\alpha} &\\equiv \\sum_{\\alpha} \\Gamma^\\alpha_{\\mu\\nu,\\alpha} \\equiv \\sum_{\\alpha=0}^3 \\Gamma^\\alpha_{\\mu\\nu,\\alpha} \\qquad ( =\\text{ some object with indices like } A_{\\mu\\nu} ) \\\\\n",
    "      \\Gamma^\\alpha_{\\alpha\\beta}\\Gamma^\\beta_{\\mu\\nu} &\\equiv \\sum_{\\alpha=0}^3 \\sum_{\\beta=0}^3\\Gamma^\\alpha_{\\alpha\\beta}\\Gamma^\\beta_{\\mu\\nu} \\qquad ( =\\text{ some object with indices like } A_{\\mu\\nu} )\n",
    "  \\end{align}\n",
    "  https://en.wikipedia.org/wiki/Einstein_notation\n",
    "\n",
    "\n",
    "#### Christoffel symbols\n",
    "\n",
    "https://en.wikipedia.org/wiki/Christoffel_symbols\n",
    "\n",
    "\\begin{equation}\n",
    "     \\Gamma^\\mu_{\\nu\\sigma} = \\frac{1}{2}g^{\\mu\\alpha}(g_{\\sigma\\alpha,\\nu} + g_{\\nu\\alpha,\\sigma} - g_{\\nu\\sigma,\\alpha})\n",
    "\\end{equation}\n",
    "\n",
    "\n",
    "#### Metric\n",
    "\n",
    "Metric for a homogeneous and isotropic spacetime written in Cartesian coordinates (and with $c = 1$):\n",
    "\\begin{equation}\n",
    "    g_{\\mu\\nu} = \\begin{bmatrix} -1 & 0 & 0 & 0 \\\\ 0 & a^2(t) & 0 & 0 \\\\ 0 & 0 & a^2(t) & 0 \\\\ 0 & 0 & 0 & a^2(t) \\end{bmatrix}\n",
    "\\end{equation}\n",
    "with $g^{\\mu\\nu}$ the matrix inverse of $g_{\\mu\\nu}$.\n",
    "\n",
    "\n",
    "#### Stress-energy tensor\n",
    "\n",
    "![T](https://upload.wikimedia.org/wikipedia/commons/thumb/f/fe/StressEnergyTensor_contravariant.svg/354px-StressEnergyTensor_contravariant.svg.png)\n",
    "\n",
    "https://en.wikipedia.org/wiki/Stress%E2%80%93energy_tensor\n",
    "\n",
    "Homogeneity and isotropy (perfect fluid) [requires](https://en.wikipedia.org/wiki/Stress%E2%80%93energy_tensor#Stress%E2%80%93energy_of_a_fluid_in_equilibrium):\n",
    "\\begin{equation}\n",
    "    T_{\\mu\\nu} = (\\rho + P)u_\\mu u_\\nu + Pg_{\\mu\\nu}\n",
    "\\end{equation}\n",
    "with $\\rho = \\rho(t)$ the energy density of the fluid, $P = P(t)$ the pressure of the fluid and $u_\\mu$ the four-velocity of the fluid: $u_\\mu = \\gamma[-1, \\vec{u}] = [-\\gamma, \\gamma u_x, \\gamma u_y, \\gamma u_z] = [-1, 0, 0, 0]$ (as the Lorentz factor for the stationary fluid is $\\gamma = 1$).\n"
   ]
  },
  {
   "cell_type": "markdown",
   "metadata": {},
   "source": [
    "## SymPy calculation"
   ]
  },
  {
   "cell_type": "code",
   "execution_count": 1,
   "metadata": {},
   "outputs": [],
   "source": [
    "import numpy as np\n",
    "from sympy import *\n",
    "\n",
    "# For printing\n",
    "from IPython.display import display, Image, Math\n",
    "import warnings\n",
    "warnings.filterwarnings('ignore', category=DeprecationWarning)\n",
    "def latex_print(lhs, rhs=None):\n",
    "    if str(...) in str(lhs) or str(...) in str(rhs):\n",
    "        return\n",
    "    if rhs is None:\n",
    "        display(Math(latex(simplify(lhs))))\n",
    "    else:\n",
    "        if isinstance(rhs, Eq):\n",
    "            eq = rhs\n",
    "            display(Math(f'{lhs} {latex(simplify(eq.lhs))} = {latex(simplify(eq.rhs))}'))\n",
    "        else:\n",
    "            display(Math(f'{lhs} = {latex(simplify(rhs))}'))"
   ]
  },
  {
   "cell_type": "code",
   "execution_count": 2,
   "metadata": {},
   "outputs": [],
   "source": [
    "# Cartesian coordinates\n",
    "t = Symbol('t', positive=True)\n",
    "x = Symbol('x')\n",
    "y = Symbol('y')\n",
    "z = Symbol('z')\n",
    "coords = [t, x, y, z]\n",
    "\n",
    "# Scale factor\n",
    "a = Function('a', positive=True)(t)"
   ]
  },
  {
   "cell_type": "code",
   "execution_count": 3,
   "metadata": {
    "scrolled": true
   },
   "outputs": [
    {
     "data": {
      "text/latex": [
       "$\\displaystyle g_{\\mu, \\nu} = \\left[\\begin{matrix}-1 & 0 & 0 & 0\\\\0 & a^{2}{\\left(t \\right)} & 0 & 0\\\\0 & 0 & a^{2}{\\left(t \\right)} & 0\\\\0 & 0 & 0 & a^{2}{\\left(t \\right)}\\end{matrix}\\right]$"
      ],
      "text/plain": [
       "<IPython.core.display.Math object>"
      ]
     },
     "metadata": {},
     "output_type": "display_data"
    },
    {
     "data": {
      "text/latex": [
       "$\\displaystyle g^{\\mu, \\nu} = \\left[\\begin{matrix}-1 & 0 & 0 & 0\\\\0 & \\frac{1}{a^{2}{\\left(t \\right)}} & 0 & 0\\\\0 & 0 & \\frac{1}{a^{2}{\\left(t \\right)}} & 0\\\\0 & 0 & 0 & \\frac{1}{a^{2}{\\left(t \\right)}}\\end{matrix}\\right]$"
      ],
      "text/plain": [
       "<IPython.core.display.Math object>"
      ]
     },
     "metadata": {},
     "output_type": "display_data"
    }
   ],
   "source": [
    "# The metric\n",
    "g = Matrix([  # ⟵ fill out\n",
    "    [-1, 0, 0,   0],\n",
    "    [0, a**2, 0, 0],\n",
    "    [0, 0, a**2, 0],\n",
    "    [0, 0, 0, a**2],\n",
    "])\n",
    "latex_print(r'g_{\\mu, \\nu}', g)\n",
    "\n",
    "# The inverse metric\n",
    "g_inv = g**(-1)\n",
    "latex_print(r'g^{\\mu, \\nu}', g_inv)"
   ]
  },
  {
   "cell_type": "code",
   "execution_count": 10,
   "metadata": {},
   "outputs": [
    {
     "data": {
      "text/latex": [
       "$\\displaystyle T_{\\mu, \\nu} = \\left[\\begin{matrix}ρ{\\left(t \\right)} & 0 & 0 & 0\\\\0 & P{\\left(t \\right)} a^{2}{\\left(t \\right)} & 0 & 0\\\\0 & 0 & P{\\left(t \\right)} a^{2}{\\left(t \\right)} & 0\\\\0 & 0 & 0 & P{\\left(t \\right)} a^{2}{\\left(t \\right)}\\end{matrix}\\right]$"
      ],
      "text/plain": [
       "<IPython.core.display.Math object>"
      ]
     },
     "metadata": {},
     "output_type": "display_data"
    }
   ],
   "source": [
    "# Stress-energy tensor\n",
    "ρ = Function('ρ')(t)\n",
    "P = Function('P')(t)\n",
    "u = [-1, 0, 0, 0]\n",
    "T = zeros(4, 4)\n",
    "for μ in range(4):\n",
    "    for ν in range(4):\n",
    "        T[μ, ν] = (ρ + P)*u[μ]*u[ν] + P*g[μ, ν]  # ⟵ fill out\n",
    "latex_print(r'T_{\\mu, \\nu}', T)"
   ]
  },
  {
   "cell_type": "markdown",
   "metadata": {},
   "source": [
    "#### Christoffel symbols: Get to grips with the notation\n",
    "Compute a single Christoffel symbol by hand. Lets pick $\\Gamma^t_{xx}$:\n",
    "\\begin{align}\n",
    "    \\Gamma^t_{xx} = ...\n",
    "\\end{align}"
   ]
  },
  {
   "cell_type": "code",
   "execution_count": 14,
   "metadata": {},
   "outputs": [
    {
     "data": {
      "text/latex": [
       "$\\displaystyle Γ^{t}_{xx} = a{\\left(t \\right)} \\frac{d}{d t} a{\\left(t \\right)}$"
      ],
      "text/plain": [
       "<IPython.core.display.Math object>"
      ]
     },
     "metadata": {},
     "output_type": "display_data"
    },
    {
     "data": {
      "text/latex": [
       "$\\displaystyle Γ^{t}_{yy} = a{\\left(t \\right)} \\frac{d}{d t} a{\\left(t \\right)}$"
      ],
      "text/plain": [
       "<IPython.core.display.Math object>"
      ]
     },
     "metadata": {},
     "output_type": "display_data"
    },
    {
     "data": {
      "text/latex": [
       "$\\displaystyle Γ^{t}_{zz} = a{\\left(t \\right)} \\frac{d}{d t} a{\\left(t \\right)}$"
      ],
      "text/plain": [
       "<IPython.core.display.Math object>"
      ]
     },
     "metadata": {},
     "output_type": "display_data"
    },
    {
     "data": {
      "text/latex": [
       "$\\displaystyle Γ^{x}_{tx} = \\frac{\\frac{d}{d t} a{\\left(t \\right)}}{a{\\left(t \\right)}}$"
      ],
      "text/plain": [
       "<IPython.core.display.Math object>"
      ]
     },
     "metadata": {},
     "output_type": "display_data"
    },
    {
     "data": {
      "text/latex": [
       "$\\displaystyle Γ^{x}_{xt} = \\frac{\\frac{d}{d t} a{\\left(t \\right)}}{a{\\left(t \\right)}}$"
      ],
      "text/plain": [
       "<IPython.core.display.Math object>"
      ]
     },
     "metadata": {},
     "output_type": "display_data"
    },
    {
     "data": {
      "text/latex": [
       "$\\displaystyle Γ^{y}_{ty} = \\frac{\\frac{d}{d t} a{\\left(t \\right)}}{a{\\left(t \\right)}}$"
      ],
      "text/plain": [
       "<IPython.core.display.Math object>"
      ]
     },
     "metadata": {},
     "output_type": "display_data"
    },
    {
     "data": {
      "text/latex": [
       "$\\displaystyle Γ^{y}_{yt} = \\frac{\\frac{d}{d t} a{\\left(t \\right)}}{a{\\left(t \\right)}}$"
      ],
      "text/plain": [
       "<IPython.core.display.Math object>"
      ]
     },
     "metadata": {},
     "output_type": "display_data"
    },
    {
     "data": {
      "text/latex": [
       "$\\displaystyle Γ^{z}_{tz} = \\frac{\\frac{d}{d t} a{\\left(t \\right)}}{a{\\left(t \\right)}}$"
      ],
      "text/plain": [
       "<IPython.core.display.Math object>"
      ]
     },
     "metadata": {},
     "output_type": "display_data"
    },
    {
     "data": {
      "text/latex": [
       "$\\displaystyle Γ^{z}_{zt} = \\frac{\\frac{d}{d t} a{\\left(t \\right)}}{a{\\left(t \\right)}}$"
      ],
      "text/plain": [
       "<IPython.core.display.Math object>"
      ]
     },
     "metadata": {},
     "output_type": "display_data"
    }
   ],
   "source": [
    "α = 0\n",
    "# Christoffel symbols\n",
    "Γ = np.empty([4, 4, 4], dtype=object)\n",
    "for μ in range(4):\n",
    "    for ν in range(4):\n",
    "        for σ in range(4):\n",
    "            Γ[μ, ν, σ] = sum(Rational('1/2') * g_inv[μ,α] * (\n",
    "                + diff(g[σ,α],coords[ν]) \n",
    "                + diff(g[ν,α],coords[σ])\n",
    "                - diff(g[ν,σ],coords[α])) for α in range(4))  # ⟵ fill out\n",
    "\n",
    "# Print non-zero Christoffel symbols\n",
    "for μ in range(4):\n",
    "    for ν in range(4):\n",
    "        for σ in range(4):\n",
    "            if Γ[μ, ν, σ] != 0:\n",
    "                latex_print(rf'Γ^{{{coords[μ]}}}_{{{coords[ν]}{coords[σ]}}}', Γ[μ, ν, σ])"
   ]
  },
  {
   "cell_type": "code",
   "execution_count": 16,
   "metadata": {},
   "outputs": [
    {
     "data": {
      "text/latex": [
       "$\\displaystyle R_{tt} = - \\frac{3 \\frac{d^{2}}{d t^{2}} a{\\left(t \\right)}}{a{\\left(t \\right)}}$"
      ],
      "text/plain": [
       "<IPython.core.display.Math object>"
      ]
     },
     "metadata": {},
     "output_type": "display_data"
    },
    {
     "data": {
      "text/latex": [
       "$\\displaystyle R_{xx} = a{\\left(t \\right)} \\frac{d^{2}}{d t^{2}} a{\\left(t \\right)} + 2 \\left(\\frac{d}{d t} a{\\left(t \\right)}\\right)^{2}$"
      ],
      "text/plain": [
       "<IPython.core.display.Math object>"
      ]
     },
     "metadata": {},
     "output_type": "display_data"
    },
    {
     "data": {
      "text/latex": [
       "$\\displaystyle R_{yy} = a{\\left(t \\right)} \\frac{d^{2}}{d t^{2}} a{\\left(t \\right)} + 2 \\left(\\frac{d}{d t} a{\\left(t \\right)}\\right)^{2}$"
      ],
      "text/plain": [
       "<IPython.core.display.Math object>"
      ]
     },
     "metadata": {},
     "output_type": "display_data"
    },
    {
     "data": {
      "text/latex": [
       "$\\displaystyle R_{zz} = a{\\left(t \\right)} \\frac{d^{2}}{d t^{2}} a{\\left(t \\right)} + 2 \\left(\\frac{d}{d t} a{\\left(t \\right)}\\right)^{2}$"
      ],
      "text/plain": [
       "<IPython.core.display.Math object>"
      ]
     },
     "metadata": {},
     "output_type": "display_data"
    }
   ],
   "source": [
    "# Ricci tensor        \n",
    "R = np.empty([4, 4], dtype=object)\n",
    "\n",
    "for μ in range(4):\n",
    "    for ν in range(4):\n",
    "        R[μ,ν] = (\n",
    "        + sum(diff(Γ[α,μ,ν],coords[α]) for α in range(4))\n",
    "        - sum(diff(Γ[α,ν,α],coords[μ]) for α in range(4))\n",
    "        + sum(Γ[α,α,β] * Γ[β,μ,ν] for α in range(4) for β in range(4))\n",
    "        - sum(Γ[α,μ,β] * Γ[β,α,ν] for α in range(4) for β in range(4))\n",
    "                    )\n",
    "#μ, ν, σ, β, α\n",
    "# Print non-zero Ricci tensor elements\n",
    "for μ in range(4):\n",
    "    for ν in range(4):\n",
    "        if R[μ, ν] != 0:\n",
    "            latex_print(rf'R_{{{coords[μ]}{coords[ν]}}}', R[μ, ν])"
   ]
  },
  {
   "cell_type": "code",
   "execution_count": 19,
   "metadata": {},
   "outputs": [
    {
     "data": {
      "text/latex": [
       "$\\displaystyle R = \\frac{6 \\left(a{\\left(t \\right)} \\frac{d^{2}}{d t^{2}} a{\\left(t \\right)} + \\left(\\frac{d}{d t} a{\\left(t \\right)}\\right)^{2}\\right)}{a^{2}{\\left(t \\right)}}$"
      ],
      "text/plain": [
       "<IPython.core.display.Math object>"
      ]
     },
     "metadata": {},
     "output_type": "display_data"
    }
   ],
   "source": [
    "# Ricci scalar\n",
    "#μ, ν, σ, β, α\n",
    "R_scalar = sum(g_inv[α,β] * R[α,β] for α in range(4) for β in range(4))\n",
    "latex_print(rf'R', R_scalar)"
   ]
  },
  {
   "cell_type": "code",
   "execution_count": 8,
   "metadata": {},
   "outputs": [],
   "source": [
    "# Einstein equations\n",
    "for i in range(4):\n",
    "    for j in range(4):\n",
    "        lhs = ...  # ⟵  left-hand side of Einstein equations\n",
    "        rhs = ...  # ⟵ right-hand side of Einstein equations\n",
    "        if (lhs != 0 != rhs) and ... not in {lhs, rhs}:\n",
    "            latex_print(rf'{coords[i]}, {coords[j]}:', Eq(lhs, rhs))"
   ]
  },
  {
   "cell_type": "markdown",
   "metadata": {},
   "source": [
    "## Remaining steps\n",
    "The 16 Einstein equations above should have boiled down to 2 independent equations:\n",
    "* The Friedmann equation for $\\dot{a} = \\mathrm{d}a(t)/\\mathrm{d}t$ written in terms of $\\rho(t)$.\n",
    "* An equation involving both $\\dot{a}$ and $\\ddot{a}$.\n",
    "\n",
    "We still need a few steps if we want to arrive at the familiar\n",
    "\\begin{equation}\n",
    "    \\frac{H^2(t)}{H_0^2} = \\frac{\\Omega_{\\mathrm{r}0}}{a^4(t)} + \\frac{\\Omega_{\\mathrm{m}0}}{a^3(t)} + \\Omega_{{\\Lambda}0}\n",
    "\\end{equation}\n",
    "\n",
    "These steps are outlined below (no SymPy necessary):\n",
    "* **Step 1**: Use the Friedmann equation to get rid of $\\dot{a}$ in the equation involving $\\ddot{a}$, leaving you with the acceleration equation.\n",
    "\n",
    "* **Step 2**: Differentiate the Friedmann equation with respect to $t$, then use the Friedmann and acceleration equations to get rid of $\\dot{a}^2$ and $\\ddot{a}$. This gives you a differential equation for $\\dot{\\rho}(t)$ called the continuity equation.\n",
    "\n",
    "* **Step 3**: We can write the total density in the universe $\\rho(t)$ as a sum of densities of individual species,\n",
    "  \\begin{equation}\n",
    "      \\rho(t) = \\rho_{\\mathrm{r}}(t) + \\rho_{\\mathrm{m}}(t) + \\rho_{\\Lambda}(t) = \\sum_s \\rho_s(t)\n",
    "  \\end{equation}\n",
    "  The continuity equation for the total $\\rho(t)$ also holds for each $\\rho_s(t)$ individually.\n",
    "  * Using the general equation of state $P_s(t) = w_s\\rho_s(t)$ (with $w_s$ some constant value for each species) write down the continuity equation for a general species $s$ without mention of the pressure $P_s(t)$.\n",
    "  * Using seperation of variables, integrate this equation from the present time $t_0$ (with $a(t_0) \\equiv 1$) back to some earlier time $t$. You should get an algebraic equation for $\\rho_s(t)$ in terms of $\\rho_s(t_0)$.\n",
    "\n",
    "* **Step 4**: With $H(t) \\equiv \\dot{a}/a$ and $H(t_0) \\equiv H_0$, divide the Friedmann equation by itself evaluated at the present time $t_0$. Assuming a flat universe, the current total density $\\rho(t_0)$ is equal to the current critical density, so we may substitute $\\rho(t_0) = \\rho_{\\mathrm{crit}0}$. Finally, with $w_{\\mathrm{r}} = 1/3$, $w_{\\mathrm{m}} = 0$, $w_{\\Lambda} = -1$, substitute $\\rho(t)$ for the algebraic expression for $\\rho_{\\mathrm{r}}(t) + \\rho_{\\mathrm{m}}(t) + \\rho_{\\Lambda}(t)$ and write densities in terms of density parameters $\\Omega_{s0} \\equiv \\rho_{s0}/\\rho_{\\mathrm{crit}0}$."
   ]
  },
  {
   "cell_type": "code",
   "execution_count": null,
   "metadata": {},
   "outputs": [],
   "source": []
  }
 ],
 "metadata": {
  "kernelspec": {
   "display_name": "Python 3",
   "language": "python",
   "name": "python3"
  },
  "language_info": {
   "codemirror_mode": {
    "name": "ipython",
    "version": 3
   },
   "file_extension": ".py",
   "mimetype": "text/x-python",
   "name": "python",
   "nbconvert_exporter": "python",
   "pygments_lexer": "ipython3",
   "version": "3.9.4"
  }
 },
 "nbformat": 4,
 "nbformat_minor": 4
}
